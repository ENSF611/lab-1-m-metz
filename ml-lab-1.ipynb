{
 "cells": [
  {
   "cell_type": "markdown",
   "metadata": {},
   "source": [
    "Author: Michael Metz"
   ]
  },
  {
   "cell_type": "code",
   "execution_count": 1,
   "metadata": {},
   "outputs": [
    {
     "name": "stdout",
     "output_type": "stream",
     "text": [
      "Python version: 3.9.12 (main, Apr  4 2022, 05:22:27) [MSC v.1916 64 bit (AMD64)]\n",
      "pandas version: 1.4.2\n",
      "matplotlib version: 3.5.1\n",
      "NumPy version: 1.21.5\n",
      "SciPy version: 1.7.3\n",
      "IPython version: 8.2.0\n",
      "scikit-learn version: 1.0.2\n",
      "yellowbrick version: 1.5\n"
     ]
    }
   ],
   "source": [
    "# paste code from README.md to display versions and run cell\n",
    "import sys\n",
    "print(\"Python version:\", sys.version)\n",
    "import pandas as pd\n",
    "print(\"pandas version:\", pd.__version__)\n",
    "import matplotlib\n",
    "print(\"matplotlib version:\", matplotlib.__version__)\n",
    "import numpy as np\n",
    "print(\"NumPy version:\", np.__version__)\n",
    "import scipy as sp\n",
    "print(\"SciPy version:\", sp.__version__)\n",
    "import IPython\n",
    "print(\"IPython version:\", IPython.__version__)\n",
    "import sklearn\n",
    "print(\"scikit-learn version:\", sklearn.__version__)\n",
    "import yellowbrick\n",
    "print(\"yellowbrick version:\", yellowbrick.__version__)"
   ]
  },
  {
   "cell_type": "code",
   "execution_count": 2,
   "metadata": {},
   "outputs": [
    {
     "name": "stdout",
     "output_type": "stream",
     "text": [
      "# conda environments:\n",
      "#\n",
      "base                     C:\\ProgramData\\Anaconda3\n",
      "ENSF592                  C:\\ProgramData\\Anaconda3\\envs\\ENSF592\n",
      "ensf-ml               *  C:\\ProgramData\\Anaconda3\\envs\\ensf-ml\n",
      "\n"
     ]
    }
   ],
   "source": [
    "# run this cell to list conda environments\n",
    "!conda info --envs"
   ]
  }
 ],
 "metadata": {
  "kernelspec": {
   "display_name": "Python 3.9.12 ('ensf-ml')",
   "language": "python",
   "name": "python3"
  },
  "language_info": {
   "codemirror_mode": {
    "name": "ipython",
    "version": 3
   },
   "file_extension": ".py",
   "mimetype": "text/x-python",
   "name": "python",
   "nbconvert_exporter": "python",
   "pygments_lexer": "ipython3",
   "version": "3.9.12"
  },
  "vscode": {
   "interpreter": {
    "hash": "2348bcbdd58211594bb8dd708cc016a900895e841a76daf51156d3b6c212fc19"
   }
  }
 },
 "nbformat": 4,
 "nbformat_minor": 4
}
